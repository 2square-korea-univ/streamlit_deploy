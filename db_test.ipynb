{
 "cells": [
  {
   "cell_type": "code",
   "execution_count": 3,
   "metadata": {},
   "outputs": [],
   "source": [
    "import sqlite3\n",
    "\n",
    "conn = sqlite3.connect('my_database.db')\n",
    "\n",
    "cursor = conn.cursor()\n",
    "\n",
    "cursor.execute(\"CREATE TABLE IF NOT EXISTS users (id INTEGER PRIMARY KEY AUTOINCREMENT, name TEXT, age INTEGER)\")\n",
    "conn.commit()\n",
    "conn.close()"
   ]
  },
  {
   "cell_type": "code",
   "execution_count": 3,
   "metadata": {},
   "outputs": [
    {
     "name": "stdout",
     "output_type": "stream",
     "text": [
      "\n",
      "[Tables in database]\n",
      "- users\n",
      "- sqlite_sequence\n"
     ]
    }
   ],
   "source": [
    "import sqlite3\n",
    "\n",
    "conn = sqlite3.connect('my_database.db')\n",
    "cursor = conn.cursor()\n",
    "\n",
    "# 테이블 정보 조회\n",
    "cursor.execute(\"SELECT name FROM sqlite_master WHERE type='table'\")\n",
    "tables = cursor.fetchall()\n",
    "\n",
    "# 테이블 목록 출력\n",
    "print(\"\\n[Tables in database]\")\n",
    "for table in tables:\n",
    "    print(f\"- {table[0]}\")\n",
    "\n",
    "\n",
    "\n",
    "# 모든 사용자 데이터 조회\n",
    "cursor.execute(\"SELECT * FROM users\")\n",
    "rows = cursor.fetchall()\n",
    "\n",
    "# 결과 출력\n",
    "for row in rows:\n",
    "    print(f\"ID: {row[0]}, Name: {row[1]}, Age: {row[2]}\")\n",
    "\n",
    "conn.close()\n"
   ]
  },
  {
   "cell_type": "code",
   "execution_count": 4,
   "metadata": {},
   "outputs": [
    {
     "name": "stdout",
     "output_type": "stream",
     "text": [
      "\n",
      "[Inserted test data]\n",
      "ID: 1, Name: John Doe, Age: 25\n",
      "ID: 2, Name: Jane Smith, Age: 30\n",
      "ID: 3, Name: Bob Johnson, Age: 35\n"
     ]
    }
   ],
   "source": [
    "import sqlite3\n",
    "\n",
    "conn = sqlite3.connect('my_database.db')\n",
    "cursor = conn.cursor()\n",
    "\n",
    "# 테스트 데이터 삽입\n",
    "cursor.execute(\"INSERT INTO users (name, age) VALUES (?, ?)\", (\"John Doe\", 25))\n",
    "cursor.execute(\"INSERT INTO users (name, age) VALUES (?, ?)\", (\"Jane Smith\", 30))\n",
    "cursor.execute(\"INSERT INTO users (name, age) VALUES (?, ?)\", (\"Bob Johnson\", 35))\n",
    "conn.commit()\n",
    "\n",
    "# 삽입된 데이터 조회\n",
    "print(\"\\n[Inserted test data]\")\n",
    "cursor.execute(\"SELECT * FROM users\")\n",
    "rows = cursor.fetchall()\n",
    "\n",
    "for row in rows:\n",
    "    print(f\"ID: {row[0]}, Name: {row[1]}, Age: {row[2]}\")\n",
    "\n",
    "conn.close()\n"
   ]
  },
  {
   "cell_type": "code",
   "execution_count": 5,
   "metadata": {},
   "outputs": [
    {
     "data": {
      "text/plain": [
       "[(1, 'John Doe', 25), (2, 'Jane Smith', 30), (3, 'Bob Johnson', 35)]"
      ]
     },
     "execution_count": 5,
     "metadata": {},
     "output_type": "execute_result"
    }
   ],
   "source": [
    "rows"
   ]
  },
  {
   "cell_type": "code",
   "execution_count": null,
   "metadata": {},
   "outputs": [],
   "source": [
    "INSERT INTO users (name, age) \n",
    "VALUES (?, ?)"
   ]
  },
  {
   "cell_type": "code",
   "execution_count": null,
   "metadata": {},
   "outputs": [],
   "source": [
    "SELECT name \n",
    "FROM sqlite_master \n",
    "WHERE type='table'\n",
    "\n",
    "\n"
   ]
  },
  {
   "cell_type": "code",
   "execution_count": 8,
   "metadata": {},
   "outputs": [],
   "source": [
    "import sqlite3\n",
    "conn = sqlite3.connect('my_database.db')\n",
    "cursor = conn.cursor()\n",
    "\n",
    "cursor.execute(\"CREATE TABLE IF NOT EXISTS my_database (id INTEGER PRIMARY KEY AUTOINCREMENT, name TEXT, description TEXT, price INTEGER)\")\n",
    "\n",
    "insert_sql = \"INSERT INTO my_database (name, description, price) VALUES (?, ?, ?)\"\n",
    "products_to_insert = [\n",
    "    ('노트북', '고성능 노트북', 1200000),\n",
    "    ('마우스', '무선 마우스', 30000),\n",
    "    ('키보드', '기계식 키보드', 80000)\n",
    "]\n",
    "cursor.executemany(insert_sql, products_to_insert) # executemany: 여러 데이터 한 번에 삽입\n",
    "conn.commit()"
   ]
  },
  {
   "cell_type": "code",
   "execution_count": 9,
   "metadata": {},
   "outputs": [
    {
     "name": "stdout",
     "output_type": "stream",
     "text": [
      "ID: 1, Name: 노트북, Description: 고성능 노트북, Price: 1200000\n",
      "ID: 2, Name: 마우스, Description: 무선 마우스, Price: 30000\n",
      "ID: 3, Name: 키보드, Description: 기계식 키보드, Price: 80000\n"
     ]
    }
   ],
   "source": [
    "cursor.execute(\"SELECT * FROM my_database\")\n",
    "rows = cursor.fetchall()\n",
    "\n",
    "for row in rows:\n",
    "    print(f\"ID: {row[0]}, Name: {row[1]}, Description: {row[2]}, Price: {row[3]}\")\n"
   ]
  },
  {
   "cell_type": "code",
   "execution_count": null,
   "metadata": {},
   "outputs": [],
   "source": [
    "conn = sqlite3.connect('my_database.db')\n",
    "cursor = conn.cursor()\n",
    "\n",
    "\n",
    "cursor = sqlite3.connect('my_database.db').cursor()\n"
   ]
  },
  {
   "cell_type": "code",
   "execution_count": 2,
   "metadata": {},
   "outputs": [],
   "source": [
    "import sqlite3\n",
    "\n",
    "conn = sqlite3.connect('my_database.db')\n",
    "cursor = conn.cursor()\n",
    "\n",
    "\n",
    "create_table_sql = \"\"\"\n",
    "CREATE TABLE products (\n",
    "    id INTEGER PRIMARY KEY AUTOINCREMENT,\n",
    "    name TEXT NOT NULL,\n",
    "    description TEXT,\n",
    "    price REAL\n",
    ");\n",
    "\"\"\"\n",
    "\n",
    "cursor.execute(create_table_sql)\n",
    "conn.commit()\n",
    "conn.close()\n"
   ]
  },
  {
   "cell_type": "code",
   "execution_count": 6,
   "metadata": {},
   "outputs": [
    {
     "name": "stdout",
     "output_type": "stream",
     "text": [
      "=== Products 테이블 스키마 정보 ===\n",
      "id, INTEGER, 0, None,1\n",
      "name, TEXT, 1, None,0\n",
      "description, TEXT, 0, None,0\n",
      "price, REAL, 0, None,0\n",
      "\n"
     ]
    }
   ],
   "source": [
    "conn = sqlite3.connect('my_database.db')\n",
    "cursor = conn.cursor()\n",
    "\n",
    "# 테이블 스키마 정보 조회\n",
    "cursor.execute(\"PRAGMA table_info(products)\")\n",
    "table_info = cursor.fetchall()\n",
    "\n",
    "print(\"=== Products 테이블 스키마 정보 ===\")\n",
    "for column in table_info:\n",
    "    print(f\"{column[1]}, {column[2]}, {column[3]}, {column[4]},{column[5]}\")\n",
    "print()\n",
    "\n",
    "\n",
    "\n",
    "# 테이블의 모든 데이터 조회\n",
    "cursor.execute(\"SELECT * FROM products\")\n",
    "rows = cursor.fetchall()\n",
    "\n",
    "# 결과 출력\n",
    "print(\"=== Products 테이블 데이터 ===\")\n",
    "if len(rows) == 0:\n",
    "    print(\"테이블에 데이터가 없습니다.\")\n",
    "else:\n",
    "    for row in rows:\n",
    "        print(f\"{row[0]}, {row[1]}, {row[2]}, {row[3]}\")\n",
    "\n",
    "conn.close()\n"
   ]
  },
  {
   "cell_type": "code",
   "execution_count": 21,
   "metadata": {},
   "outputs": [
    {
     "ename": "IntegrityError",
     "evalue": "NOT NULL constraint failed: products.name",
     "output_type": "error",
     "traceback": [
      "\u001b[1;31m---------------------------------------------------------------------------\u001b[0m",
      "\u001b[1;31mIntegrityError\u001b[0m                            Traceback (most recent call last)",
      "Cell \u001b[1;32mIn[21], line 13\u001b[0m\n\u001b[0;32m      5\u001b[0m insert_sql \u001b[38;5;241m=\u001b[39m \u001b[38;5;124m\"\u001b[39m\u001b[38;5;124mINSERT INTO products (name, description, price) VALUES (?, ?, ?)\u001b[39m\u001b[38;5;124m\"\u001b[39m\n\u001b[0;32m      6\u001b[0m products_to_insert \u001b[38;5;241m=\u001b[39m [\n\u001b[0;32m      7\u001b[0m     (\u001b[38;5;124m'\u001b[39m\u001b[38;5;124m노트북\u001b[39m\u001b[38;5;124m'\u001b[39m, \u001b[38;5;124m'\u001b[39m\u001b[38;5;124m고성능 노트북\u001b[39m\u001b[38;5;124m'\u001b[39m, \u001b[38;5;241m1200000\u001b[39m),\n\u001b[0;32m      8\u001b[0m     (\u001b[38;5;124m'\u001b[39m\u001b[38;5;124m마우스\u001b[39m\u001b[38;5;124m'\u001b[39m, \u001b[38;5;124m'\u001b[39m\u001b[38;5;124m무선 마우스\u001b[39m\u001b[38;5;124m'\u001b[39m, \u001b[38;5;241m30000\u001b[39m),\n\u001b[1;32m   (...)\u001b[0m\n\u001b[0;32m     11\u001b[0m     (\u001b[38;5;28;01mNone\u001b[39;00m,\u001b[38;5;124m'\u001b[39m\u001b[38;5;124m'\u001b[39m,\u001b[38;5;241m10\u001b[39m)\n\u001b[0;32m     12\u001b[0m ]\n\u001b[1;32m---> 13\u001b[0m \u001b[43mcursor\u001b[49m\u001b[38;5;241;43m.\u001b[39;49m\u001b[43mexecutemany\u001b[49m\u001b[43m(\u001b[49m\u001b[43minsert_sql\u001b[49m\u001b[43m,\u001b[49m\u001b[43m \u001b[49m\u001b[43mproducts_to_insert\u001b[49m\u001b[43m)\u001b[49m \u001b[38;5;66;03m# executemany: 여러 데이터 한 번에 삽입\u001b[39;00m\n\u001b[0;32m     15\u001b[0m conn\u001b[38;5;241m.\u001b[39mcommit()\n\u001b[0;32m     16\u001b[0m conn\u001b[38;5;241m.\u001b[39mclose()\n",
      "\u001b[1;31mIntegrityError\u001b[0m: NOT NULL constraint failed: products.name"
     ]
    }
   ],
   "source": [
    "# 닫았으면 반드시 다시 열어줘야함!\n",
    "conn = sqlite3.connect('my_database.db')\n",
    "cursor = conn.cursor()\n",
    "\n",
    "insert_sql = \"INSERT INTO products (name, description, price) VALUES (?, ?, ?)\"\n",
    "products_to_insert = [\n",
    "    ('노트북', '고성능 노트북', 1200000),\n",
    "    ('마우스', '무선 마우스', 30000),\n",
    "    ('키보드', '기계식 키보드', 80000),\n",
    "    ('프린터', None, 100000),\n",
    "    (None,'',10)\n",
    "]\n",
    "cursor.executemany(insert_sql, products_to_insert) # executemany: 여러 데이터 한 번에 삽입\n",
    "\n",
    "conn.commit()\n",
    "conn.close()"
   ]
  },
  {
   "cell_type": "code",
   "execution_count": 22,
   "metadata": {},
   "outputs": [
    {
     "name": "stdout",
     "output_type": "stream",
     "text": [
      "=== Products 테이블 스키마 정보 ===\n",
      "id, INTEGER, 0, None,1\n",
      "name, TEXT, 1, None,0\n",
      "description, TEXT, 0, None,0\n",
      "price, REAL, 0, None,0\n",
      "\n",
      "=== Products 테이블 데이터 ===\n",
      "1, 노트북, 고성능 노트북, 1200000.0\n",
      "2, 마우스, 무선 마우스, 30000.0\n",
      "3, 키보드, 기계식 키보드, 80000.0\n",
      "4, 노트북, 고성능 노트북, 1200000.0\n",
      "5, 마우스, 무선 마우스, 30000.0\n",
      "6, 키보드, 기계식 키보드, 80000.0\n",
      "7, 프린터, , 100000.0\n",
      "8, 노트북, 고성능 노트북, 1200000.0\n",
      "9, 마우스, 무선 마우스, 30000.0\n",
      "10, 키보드, 기계식 키보드, 80000.0\n",
      "11, 프린터, , 100000.0\n",
      "12, 노트북, 고성능 노트북, 1200000.0\n",
      "13, 마우스, 무선 마우스, 30000.0\n",
      "14, 키보드, 기계식 키보드, 80000.0\n",
      "15, 프린터, , 100000.0\n",
      "16, , , 10.0\n",
      "17, 노트북, 고성능 노트북, 1200000.0\n",
      "18, 마우스, 무선 마우스, 30000.0\n",
      "19, 키보드, 기계식 키보드, 80000.0\n",
      "20, 프린터, None, 100000.0\n"
     ]
    }
   ],
   "source": [
    "conn = sqlite3.connect('my_database.db')\n",
    "cursor = conn.cursor()\n",
    "\n",
    "# 테이블 스키마 정보 조회\n",
    "cursor.execute(\"PRAGMA table_info(products)\")\n",
    "table_info = cursor.fetchall()\n",
    "\n",
    "print(\"=== Products 테이블 스키마 정보 ===\")\n",
    "for column in table_info:\n",
    "    print(f\"{column[1]}, {column[2]}, {column[3]}, {column[4]},{column[5]}\")\n",
    "print()\n",
    "\n",
    "\n",
    "\n",
    "# 테이블의 모든 데이터 조회\n",
    "cursor.execute(\"SELECT * FROM products\")\n",
    "rows = cursor.fetchall()\n",
    "\n",
    "# 결과 출력\n",
    "print(\"=== Products 테이블 데이터 ===\")\n",
    "if len(rows) == 0:\n",
    "    print(\"테이블에 데이터가 없습니다.\")\n",
    "else:\n",
    "    for row in rows:\n",
    "        print(f\"{row[0]}, {row[1]}, {row[2]}, {row[3]}\")\n",
    "\n",
    "conn.close()\n"
   ]
  },
  {
   "cell_type": "code",
   "execution_count": null,
   "metadata": {},
   "outputs": [],
   "source": []
  }
 ],
 "metadata": {
  "kernelspec": {
   "display_name": "Python 3",
   "language": "python",
   "name": "python3"
  },
  "language_info": {
   "codemirror_mode": {
    "name": "ipython",
    "version": 3
   },
   "file_extension": ".py",
   "mimetype": "text/x-python",
   "name": "python",
   "nbconvert_exporter": "python",
   "pygments_lexer": "ipython3",
   "version": "3.13.1"
  }
 },
 "nbformat": 4,
 "nbformat_minor": 2
}
